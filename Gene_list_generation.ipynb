{
 "cells": [
  {
   "cell_type": "code",
   "execution_count": 2,
   "id": "4eaebb01-8700-4c13-9b30-fd8cc9a6e7ad",
   "metadata": {},
   "outputs": [
    {
     "name": "stdout",
     "output_type": "stream",
     "text": [
      "Collecting GEOparse\n",
      "  Downloading GEOparse-2.0.4-py3-none-any.whl.metadata (6.5 kB)\n",
      "Requirement already satisfied: pandas in /opt/anaconda3/lib/python3.12/site-packages (2.2.2)\n",
      "Requirement already satisfied: scipy in /opt/anaconda3/lib/python3.12/site-packages (1.13.1)\n",
      "Requirement already satisfied: statsmodels in /opt/anaconda3/lib/python3.12/site-packages (0.14.2)\n",
      "Requirement already satisfied: numpy>=1.7 in /opt/anaconda3/lib/python3.12/site-packages (from GEOparse) (1.26.4)\n",
      "Requirement already satisfied: requests>=2.21.0 in /opt/anaconda3/lib/python3.12/site-packages (from GEOparse) (2.32.3)\n",
      "Requirement already satisfied: tqdm>=4.31.1 in /opt/anaconda3/lib/python3.12/site-packages (from GEOparse) (4.67.1)\n",
      "Requirement already satisfied: python-dateutil>=2.8.2 in /opt/anaconda3/lib/python3.12/site-packages (from pandas) (2.9.0.post0)\n",
      "Requirement already satisfied: pytz>=2020.1 in /opt/anaconda3/lib/python3.12/site-packages (from pandas) (2024.1)\n",
      "Requirement already satisfied: tzdata>=2022.7 in /opt/anaconda3/lib/python3.12/site-packages (from pandas) (2023.3)\n",
      "Requirement already satisfied: patsy>=0.5.6 in /opt/anaconda3/lib/python3.12/site-packages (from statsmodels) (0.5.6)\n",
      "Requirement already satisfied: packaging>=21.3 in /opt/anaconda3/lib/python3.12/site-packages (from statsmodels) (24.1)\n",
      "Requirement already satisfied: six in /opt/anaconda3/lib/python3.12/site-packages (from patsy>=0.5.6->statsmodels) (1.16.0)\n",
      "Requirement already satisfied: charset-normalizer<4,>=2 in /opt/anaconda3/lib/python3.12/site-packages (from requests>=2.21.0->GEOparse) (3.4.1)\n",
      "Requirement already satisfied: idna<4,>=2.5 in /opt/anaconda3/lib/python3.12/site-packages (from requests>=2.21.0->GEOparse) (3.10)\n",
      "Requirement already satisfied: urllib3<3,>=1.21.1 in /opt/anaconda3/lib/python3.12/site-packages (from requests>=2.21.0->GEOparse) (2.4.0)\n",
      "Requirement already satisfied: certifi>=2017.4.17 in /opt/anaconda3/lib/python3.12/site-packages (from requests>=2.21.0->GEOparse) (2025.1.31)\n",
      "Downloading GEOparse-2.0.4-py3-none-any.whl (29 kB)\n",
      "Installing collected packages: GEOparse\n",
      "Successfully installed GEOparse-2.0.4\n"
     ]
    }
   ],
   "source": [
    "!pip install GEOparse pandas scipy statsmodels"
   ]
  },
  {
   "cell_type": "code",
   "execution_count": 37,
   "id": "6ebbfac2-c44c-401e-8d20-029f76259ab2",
   "metadata": {},
   "outputs": [
    {
     "name": "stdout",
     "output_type": "stream",
     "text": [
      "Top exploratory genes (p < 0.05 and |log2FC| > 0.5):\n",
      "           Gene    log2FC   p-value\n",
      "2452       RERG -2.437042  0.000070\n",
      "11319  SLC25A25  0.865500  0.000178\n",
      "8198      RNF13 -1.002352  0.000404\n",
      "8818     SORBS2 -3.522439  0.000413\n",
      "10330     RABL5 -1.899339  0.000417\n",
      "4761     DUSP14 -1.704473  0.000427\n",
      "283      ZBTB8A -1.528991  0.000493\n",
      "8721      MAML3 -1.678754  0.000513\n",
      "9241      NDST1 -1.300696  0.000519\n",
      "4195       XPO6  3.445299  0.000550\n"
     ]
    }
   ],
   "source": [
    "import os\n",
    "import gzip\n",
    "import pandas as pd\n",
    "import numpy as np\n",
    "from scipy.stats import ttest_ind\n",
    "import warnings\n",
    "\n",
    "warnings.filterwarnings(\"ignore\", category=RuntimeWarning)\n",
    "\n",
    "# Set correct path to your extracted folder\n",
    "extract_path = \"/Users/nehaeshwaragari/Documents/miBiome Internship/GSE64850_RAW\"\n",
    "\n",
    "# Define files\n",
    "metastasis_files = [\n",
    "    \"GSM1581605_67161.fpkm.txt.gz\",\n",
    "    \"GSM1581606_84816.fpkm.txt.gz\",\n",
    "    \"GSM1581607_94948.fpkm.txt.gz\"\n",
    "]\n",
    "no_metastasis_files = [\n",
    "    \"GSM1581608_76948.fpkm.txt.gz\",\n",
    "    \"GSM1581609_86923.fpkm.txt.gz\",\n",
    "    \"GSM1581610_94812.fpkm.txt.gz\"\n",
    "]\n",
    "file_paths = [os.path.join(extract_path, f) for f in metastasis_files + no_metastasis_files]\n",
    "\n",
    "# Read and merge expression data\n",
    "expression_data = []\n",
    "for file_path in file_paths:\n",
    "    with gzip.open(file_path, 'rt') as f:\n",
    "        df = pd.read_csv(f, sep=\"\\t\")\n",
    "        df = df[['gene_short_name', 'FPKM']].copy()\n",
    "        df.columns = ['Gene', os.path.basename(file_path).split(\"_\")[0]]\n",
    "        expression_data.append(df)\n",
    "\n",
    "# Merge on 'Gene'\n",
    "merged_df = expression_data[0]\n",
    "for df in expression_data[1:]:\n",
    "    merged_df = pd.merge(merged_df, df, on='Gene')\n",
    "\n",
    "merged_df = merged_df[~merged_df['Gene'].duplicated(keep='first')]\n",
    "merged_df.set_index('Gene', inplace=True)\n",
    "merged_df = merged_df.apply(pd.to_numeric, errors='coerce')\n",
    "\n",
    "# Groups\n",
    "group1 = ['GSM1581605', 'GSM1581606', 'GSM1581607']\n",
    "group0 = ['GSM1581608', 'GSM1581609', 'GSM1581610']\n",
    "\n",
    "# T-test and fold change\n",
    "p_values = []\n",
    "log2fc = []\n",
    "genes = []\n",
    "\n",
    "for gene in merged_df.index:\n",
    "    vals1 = merged_df.loc[gene, group1].values\n",
    "    vals0 = merged_df.loc[gene, group0].values\n",
    "    if np.isnan(vals1).any() or np.isnan(vals0).any():\n",
    "        continue\n",
    "    stat, p = ttest_ind(vals1, vals0, equal_var=False)\n",
    "    p_values.append(p)\n",
    "    log2fc.append(np.log2(np.mean(vals1) + 1e-6) - np.log2(np.mean(vals0) + 1e-6))\n",
    "    genes.append(gene)\n",
    "\n",
    "# Create results dataframe\n",
    "results = pd.DataFrame({\n",
    "    'Gene': genes,\n",
    "    'log2FC': log2fc,\n",
    "    'p-value': p_values\n",
    "})\n",
    "\n",
    "# Exploratory filter: raw p-value + effect size\n",
    "exploratory = results[(results['p-value'] < 0.05) & (np.abs(results['log2FC']) > 0.5)]\n",
    "exploratory = exploratory.sort_values('p-value')\n",
    "\n",
    "# Save and show\n",
    "exploratory.to_csv(\"exploratory_gene_list.csv\", index=False)\n",
    "print(\"Top exploratory genes (p < 0.05 and |log2FC| > 0.5):\")\n",
    "print(exploratory.head(10))"
   ]
  },
  {
   "cell_type": "markdown",
   "id": "28705f37-1bbe-4ccb-88e8-34a4de61ab94",
   "metadata": {},
   "source": [
    "#### Here’s the code that generates a meaningful exploratory gene list by:\n",
    "\n",
    "- Using raw p-value < 0.05\n",
    "\n",
    "- Relaxing log2FC threshold to 0.5\n",
    "\n",
    "- Returning top genes even if not statistically significant after correction\n",
    "\n"
   ]
  }
 ],
 "metadata": {
  "kernelspec": {
   "display_name": "Python [conda env:base] *",
   "language": "python",
   "name": "conda-base-py"
  },
  "language_info": {
   "codemirror_mode": {
    "name": "ipython",
    "version": 3
   },
   "file_extension": ".py",
   "mimetype": "text/x-python",
   "name": "python",
   "nbconvert_exporter": "python",
   "pygments_lexer": "ipython3",
   "version": "3.12.7"
  }
 },
 "nbformat": 4,
 "nbformat_minor": 5
}
